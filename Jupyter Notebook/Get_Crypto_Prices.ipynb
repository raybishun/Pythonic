{
  "nbformat": 4,
  "nbformat_minor": 0,
  "metadata": {
    "colab": {
      "name": "Untitled0.ipynb",
      "provenance": [],
      "collapsed_sections": [],
      "authorship_tag": "ABX9TyOwJXjV6IO/cBZFyEKZ4eBi",
      "include_colab_link": true
    },
    "kernelspec": {
      "name": "python3",
      "display_name": "Python 3"
    }
  },
  "cells": [
    {
      "cell_type": "markdown",
      "metadata": {
        "id": "view-in-github",
        "colab_type": "text"
      },
      "source": [
        "<a href=\"https://colab.research.google.com/github/raybishun/Pythonic/blob/main/Jupyter%20Notebook/Get_Crypto_Prices.ipynb\" target=\"_parent\"><img src=\"https://colab.research.google.com/assets/colab-badge.svg\" alt=\"Open In Colab\"/></a>"
      ]
    },
    {
      "cell_type": "code",
      "metadata": {
        "id": "LF_R5kP_Dg9k"
      },
      "source": [
        "# Purpose: Get real-time Cryptocurrency prices."
      ],
      "execution_count": null,
      "outputs": []
    },
    {
      "cell_type": "code",
      "metadata": {
        "id": "qzJpovD5EQWl"
      },
      "source": [
        "from bs4 import BeautifulSoup\r\n",
        "import requests\r\n",
        "import time"
      ],
      "execution_count": null,
      "outputs": []
    },
    {
      "cell_type": "code",
      "metadata": {
        "id": "A29M2LfqE-jS"
      },
      "source": [
        "# url = 'https://www.google.com/search?q=litecoin+price'\r\n",
        "url = 'https://www.google.com/search?q=bitcoin+price'\r\n",
        "\r\n",
        "# Get request\r\n",
        "HTML = requests.get(url)\r\n",
        "\r\n",
        "# Parse HTML\r\n",
        "soup = BeautifulSoup(HTML.text, 'html.parser')\r\n",
        "\r\n",
        "# Print output to identify where price is stored in the returned HTML\r\n",
        "print(soup.prettify())\r\n",
        "\r\n",
        "# <div class=\"BNeawe iBp4i AP7Wnd\">"
      ],
      "execution_count": null,
      "outputs": []
    },
    {
      "cell_type": "code",
      "metadata": {
        "id": "k-3g6ZGmI79a"
      },
      "source": [
        "def get_crypto_price(coin):\r\n",
        "  url = 'https://www.google.com/search?q='+coin+'+price'\r\n",
        "  HTML = requests.get(url)\r\n",
        "  soup = BeautifulSoup(HTML.text, 'html.parser')\r\n",
        "\r\n",
        "  # Find price\r\n",
        "  text = soup.find('div', attrs={'class':'BNeawe iBp4i AP7Wnd'}).find('div', attrs={'class':'BNeawe iBp4i AP7Wnd'}).text\r\n",
        "\r\n",
        "  return text"
      ],
      "execution_count": null,
      "outputs": []
    },
    {
      "cell_type": "code",
      "metadata": {
        "colab": {
          "base_uri": "https://localhost:8080/"
        },
        "id": "8zbUQS0qSrv9",
        "outputId": "7a65a999-b5b6-4f26-9e2e-4800fd58c873"
      },
      "source": [
        "# litecoin = get_crypto_price('litecoin')\r\n",
        "# print(litecoin)\r\n",
        "\r\n",
        "# bitcoin = get_crypto_price('bitcoin')\r\n",
        "# print(bitcoin)"
      ],
      "execution_count": null,
      "outputs": [
        {
          "output_type": "stream",
          "text": [
            "40,324.00 United States Dollar\n"
          ],
          "name": "stdout"
        }
      ]
    },
    {
      "cell_type": "code",
      "metadata": {
        "id": "laboP5B2gCVi"
      },
      "source": [
        "def main():\r\n",
        "  last_price = -1\r\n",
        "  while True:\r\n",
        "    crypto = 'bitcoin'\r\n",
        "    price = get_crypto_price(crypto)\r\n",
        "    if price != last_price:\r\n",
        "      print(crypto+' price: ', price)\r\n",
        "      last_price = price\r\n",
        "    time.sleep(3)"
      ],
      "execution_count": 3,
      "outputs": []
    },
    {
      "cell_type": "code",
      "metadata": {
        "colab": {
          "base_uri": "https://localhost:8080/",
          "height": 291
        },
        "id": "yGO5ZYx3gx_6",
        "outputId": "6cf72526-c459-4faa-a3d1-aadd07dfd8e5"
      },
      "source": [
        "main()"
      ],
      "execution_count": 4,
      "outputs": [
        {
          "output_type": "error",
          "ename": "NameError",
          "evalue": "ignored",
          "traceback": [
            "\u001b[0;31m---------------------------------------------------------------------------\u001b[0m",
            "\u001b[0;31mNameError\u001b[0m                                 Traceback (most recent call last)",
            "\u001b[0;32m<ipython-input-4-263240bbee7e>\u001b[0m in \u001b[0;36m<module>\u001b[0;34m()\u001b[0m\n\u001b[0;32m----> 1\u001b[0;31m \u001b[0mmain\u001b[0m\u001b[0;34m(\u001b[0m\u001b[0;34m)\u001b[0m\u001b[0;34m\u001b[0m\u001b[0;34m\u001b[0m\u001b[0m\n\u001b[0m",
            "\u001b[0;32m<ipython-input-3-297de20e1113>\u001b[0m in \u001b[0;36mmain\u001b[0;34m()\u001b[0m\n\u001b[1;32m      3\u001b[0m   \u001b[0;32mwhile\u001b[0m \u001b[0;32mTrue\u001b[0m\u001b[0;34m:\u001b[0m\u001b[0;34m\u001b[0m\u001b[0;34m\u001b[0m\u001b[0m\n\u001b[1;32m      4\u001b[0m     \u001b[0mcrypto\u001b[0m \u001b[0;34m=\u001b[0m \u001b[0;34m'bitcoin'\u001b[0m\u001b[0;34m\u001b[0m\u001b[0;34m\u001b[0m\u001b[0m\n\u001b[0;32m----> 5\u001b[0;31m     \u001b[0mprice\u001b[0m \u001b[0;34m=\u001b[0m \u001b[0mget_crypto_price\u001b[0m\u001b[0;34m(\u001b[0m\u001b[0mcrypto\u001b[0m\u001b[0;34m)\u001b[0m\u001b[0;34m\u001b[0m\u001b[0;34m\u001b[0m\u001b[0m\n\u001b[0m\u001b[1;32m      6\u001b[0m     \u001b[0;32mif\u001b[0m \u001b[0mprice\u001b[0m \u001b[0;34m!=\u001b[0m \u001b[0mlast_price\u001b[0m\u001b[0;34m:\u001b[0m\u001b[0;34m\u001b[0m\u001b[0;34m\u001b[0m\u001b[0m\n\u001b[1;32m      7\u001b[0m       \u001b[0mprint\u001b[0m\u001b[0;34m(\u001b[0m\u001b[0mcrypto\u001b[0m\u001b[0;34m+\u001b[0m\u001b[0;34m' price: '\u001b[0m\u001b[0;34m,\u001b[0m \u001b[0mprice\u001b[0m\u001b[0;34m)\u001b[0m\u001b[0;34m\u001b[0m\u001b[0;34m\u001b[0m\u001b[0m\n",
            "\u001b[0;31mNameError\u001b[0m: name 'get_crypto_price' is not defined"
          ]
        }
      ]
    }
  ]
}