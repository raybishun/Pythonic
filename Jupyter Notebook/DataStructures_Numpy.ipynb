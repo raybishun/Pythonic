{
  "nbformat": 4,
  "nbformat_minor": 0,
  "metadata": {
    "colab": {
      "name": "DataStructures.ipynb",
      "provenance": [],
      "collapsed_sections": [],
      "authorship_tag": "ABX9TyPYTzuwVrU5ALEJe76C46ML",
      "include_colab_link": true
    },
    "kernelspec": {
      "name": "python3",
      "display_name": "Python 3"
    }
  },
  "cells": [
    {
      "cell_type": "markdown",
      "metadata": {
        "id": "view-in-github",
        "colab_type": "text"
      },
      "source": [
        "<a href=\"https://colab.research.google.com/github/raybishun/Pythonic/blob/main/Jupyter%20Notebook/DataStructures_Numpy.ipynb\" target=\"_parent\"><img src=\"https://colab.research.google.com/assets/colab-badge.svg\" alt=\"Open In Colab\"/></a>"
      ]
    },
    {
      "cell_type": "markdown",
      "metadata": {
        "id": "AthMWIvzIWr2"
      },
      "source": [
        "## Numpy Data Structures"
      ]
    },
    {
      "cell_type": "markdown",
      "metadata": {
        "id": "1uuP-2CvIexZ"
      },
      "source": [
        "### Libraries"
      ]
    },
    {
      "cell_type": "code",
      "metadata": {
        "colab": {
          "base_uri": "https://localhost:8080/"
        },
        "id": "oXv1JzvwIpxc",
        "outputId": "b36fa6be-acdf-416c-af10-56a205794cbe"
      },
      "source": [
        "%pylab inline"
      ],
      "execution_count": 1,
      "outputs": [
        {
          "output_type": "stream",
          "text": [
            "Populating the interactive namespace from numpy and matplotlib\n"
          ],
          "name": "stdout"
        }
      ]
    },
    {
      "cell_type": "markdown",
      "metadata": {
        "id": "M0mxo4UfJXde"
      },
      "source": [
        "### NDArray"
      ]
    },
    {
      "cell_type": "markdown",
      "metadata": {
        "id": "KPVluabbKCpv"
      },
      "source": [
        "Homogeneus multidimensional array (all elements of the same type, indexed by a tupled of positive integers)"
      ]
    },
    {
      "cell_type": "markdown",
      "metadata": {
        "id": "R3nnTc5CKPQE"
      },
      "source": [
        "### **Creation of a 1-dimentional ndarray**"
      ]
    },
    {
      "cell_type": "markdown",
      "metadata": {
        "id": "XYJ_02AAO5eT"
      },
      "source": [
        "**From a list**"
      ]
    },
    {
      "cell_type": "code",
      "metadata": {
        "id": "e98vz2RiJi_-"
      },
      "source": [
        "a = array([1, 2, 3, 4])"
      ],
      "execution_count": 2,
      "outputs": []
    },
    {
      "cell_type": "code",
      "metadata": {
        "colab": {
          "base_uri": "https://localhost:8080/"
        },
        "id": "ydZOry0gKX9O",
        "outputId": "5677b445-b16b-4836-f06c-fef83a4fd301"
      },
      "source": [
        "a"
      ],
      "execution_count": 3,
      "outputs": [
        {
          "output_type": "execute_result",
          "data": {
            "text/plain": [
              "array([1, 2, 3, 4])"
            ]
          },
          "metadata": {
            "tags": []
          },
          "execution_count": 3
        }
      ]
    },
    {
      "cell_type": "code",
      "metadata": {
        "colab": {
          "base_uri": "https://localhost:8080/"
        },
        "id": "9Rl4aQXdKYuo",
        "outputId": "94848a21-899a-492c-f915-470e95efdbc5"
      },
      "source": [
        "type(a)"
      ],
      "execution_count": 4,
      "outputs": [
        {
          "output_type": "execute_result",
          "data": {
            "text/plain": [
              "numpy.ndarray"
            ]
          },
          "metadata": {
            "tags": []
          },
          "execution_count": 4
        }
      ]
    },
    {
      "cell_type": "markdown",
      "metadata": {
        "id": "MjL19caMPPUt"
      },
      "source": [
        "**From a tuple**"
      ]
    },
    {
      "cell_type": "code",
      "metadata": {
        "id": "_-_Nr93BKaiu"
      },
      "source": [
        "b = array((1.1,2.2,3,3,4))"
      ],
      "execution_count": 8,
      "outputs": []
    },
    {
      "cell_type": "code",
      "metadata": {
        "colab": {
          "base_uri": "https://localhost:8080/"
        },
        "id": "d1Qb1bOfPg-c",
        "outputId": "8584ab28-1387-4d39-d9aa-813a619b1bc6"
      },
      "source": [
        "b"
      ],
      "execution_count": 9,
      "outputs": [
        {
          "output_type": "execute_result",
          "data": {
            "text/plain": [
              "array([1.1, 2.2, 3. , 3. , 4. ])"
            ]
          },
          "metadata": {
            "tags": []
          },
          "execution_count": 9
        }
      ]
    },
    {
      "cell_type": "code",
      "metadata": {
        "colab": {
          "base_uri": "https://localhost:8080/"
        },
        "id": "qXVUwkEZPh7r",
        "outputId": "ff21a423-cdf4-4733-d7e2-51baf8d46039"
      },
      "source": [
        "type(b)"
      ],
      "execution_count": 10,
      "outputs": [
        {
          "output_type": "execute_result",
          "data": {
            "text/plain": [
              "numpy.ndarray"
            ]
          },
          "metadata": {
            "tags": []
          },
          "execution_count": 10
        }
      ]
    },
    {
      "cell_type": "markdown",
      "metadata": {
        "id": "ZRPFj-QbP1XW"
      },
      "source": [
        "### **Creation of a 2-dimensional ndarray**"
      ]
    },
    {
      "cell_type": "code",
      "metadata": {
        "id": "vhX_9KJlPl88"
      },
      "source": [
        "a2 = array([  [1, 2, 3],[4, 5, 6]  ])"
      ],
      "execution_count": 20,
      "outputs": []
    },
    {
      "cell_type": "code",
      "metadata": {
        "colab": {
          "base_uri": "https://localhost:8080/"
        },
        "id": "sdEXUpuHRCYd",
        "outputId": "c7de5373-029c-4e68-9593-7b1f7544716c"
      },
      "source": [
        "a2"
      ],
      "execution_count": 22,
      "outputs": [
        {
          "output_type": "execute_result",
          "data": {
            "text/plain": [
              "array([[1, 2, 3],\n",
              "       [4, 5, 6]])"
            ]
          },
          "metadata": {
            "tags": []
          },
          "execution_count": 22
        }
      ]
    },
    {
      "cell_type": "markdown",
      "metadata": {
        "id": "Ge8UL4BoRI3L"
      },
      "source": [
        "### **Additional important attributes**"
      ]
    },
    {
      "cell_type": "code",
      "metadata": {
        "colab": {
          "base_uri": "https://localhost:8080/"
        },
        "id": "DGzUpQ00QBTx",
        "outputId": "3dfc2340-f29d-487b-b5d5-a7f5ebc9db46"
      },
      "source": [
        "# ndarray.ndim => number of dimensions (aka rank)\r\n",
        "a2.ndim"
      ],
      "execution_count": 23,
      "outputs": [
        {
          "output_type": "execute_result",
          "data": {
            "text/plain": [
              "2"
            ]
          },
          "metadata": {
            "tags": []
          },
          "execution_count": 23
        }
      ]
    },
    {
      "cell_type": "code",
      "metadata": {
        "colab": {
          "base_uri": "https://localhost:8080/"
        },
        "id": "pHKEIPelQST4",
        "outputId": "30218d3c-a894-4dfd-a1f8-270f2db884e9"
      },
      "source": [
        "# ndarray.shape => tuple that indicates the dimensions of the array\r\n",
        "# Size of the array in each dimension (n,m) => n rows and m columns\r\n",
        "a2.shape"
      ],
      "execution_count": 24,
      "outputs": [
        {
          "output_type": "execute_result",
          "data": {
            "text/plain": [
              "(2, 3)"
            ]
          },
          "metadata": {
            "tags": []
          },
          "execution_count": 24
        }
      ]
    },
    {
      "cell_type": "code",
      "metadata": {
        "colab": {
          "base_uri": "https://localhost:8080/"
        },
        "id": "tvq5E_ibQqa1",
        "outputId": "4ea702fb-6cf2-4e6e-b607-1f4ab68d4b74"
      },
      "source": [
        "# ndarray.size => total number of elements of the array\r\n",
        "a2.size"
      ],
      "execution_count": 25,
      "outputs": [
        {
          "output_type": "execute_result",
          "data": {
            "text/plain": [
              "6"
            ]
          },
          "metadata": {
            "tags": []
          },
          "execution_count": 25
        }
      ]
    },
    {
      "cell_type": "code",
      "metadata": {
        "colab": {
          "base_uri": "https://localhost:8080/"
        },
        "id": "Z_Kvxr7VQvBd",
        "outputId": "ba7fdb56-8e0f-4d23-ec11-2c9d3c51158c"
      },
      "source": [
        "# ndarray.dtype => type of elemetns of the array\r\n",
        "a2.dtype"
      ],
      "execution_count": 26,
      "outputs": [
        {
          "output_type": "execute_result",
          "data": {
            "text/plain": [
              "dtype('int64')"
            ]
          },
          "metadata": {
            "tags": []
          },
          "execution_count": 26
        }
      ]
    },
    {
      "cell_type": "markdown",
      "metadata": {
        "id": "Wkg523VcRlVo"
      },
      "source": [
        "### **Creation of n-dimensional arrays**"
      ]
    },
    {
      "cell_type": "markdown",
      "metadata": {
        "id": "BSMrbOs2RuCi"
      },
      "source": [
        "**In way that transforms lists of lists in 2 dimensional array, it can transform list of lists of lists in 3 dimensional ones and so on...**"
      ]
    },
    {
      "cell_type": "code",
      "metadata": {
        "id": "f0RzfMaYQ2vF"
      },
      "source": [
        "a4 = array([[[[1, 2], [3, 4]], [[5, 6], [7, 8]]], [[[9, 10], [11, 12]], [[13, 14], [15, 16]]]])"
      ],
      "execution_count": 30,
      "outputs": []
    },
    {
      "cell_type": "code",
      "metadata": {
        "colab": {
          "base_uri": "https://localhost:8080/"
        },
        "id": "ktJ386gHsL--",
        "outputId": "7dd49670-4a52-4d69-f40e-cc80636af325"
      },
      "source": [
        "a4"
      ],
      "execution_count": 31,
      "outputs": [
        {
          "output_type": "execute_result",
          "data": {
            "text/plain": [
              "array([[[[ 1,  2],\n",
              "         [ 3,  4]],\n",
              "\n",
              "        [[ 5,  6],\n",
              "         [ 7,  8]]],\n",
              "\n",
              "\n",
              "       [[[ 9, 10],\n",
              "         [11, 12]],\n",
              "\n",
              "        [[13, 14],\n",
              "         [15, 16]]]])"
            ]
          },
          "metadata": {
            "tags": []
          },
          "execution_count": 31
        }
      ]
    },
    {
      "cell_type": "code",
      "metadata": {
        "colab": {
          "base_uri": "https://localhost:8080/"
        },
        "id": "DZHwRJJ0sh1Z",
        "outputId": "67d62f83-ff47-4865-ceb4-8ef92ffea93e"
      },
      "source": [
        "a4.ndim"
      ],
      "execution_count": 32,
      "outputs": [
        {
          "output_type": "execute_result",
          "data": {
            "text/plain": [
              "4"
            ]
          },
          "metadata": {
            "tags": []
          },
          "execution_count": 32
        }
      ]
    },
    {
      "cell_type": "code",
      "metadata": {
        "colab": {
          "base_uri": "https://localhost:8080/"
        },
        "id": "gTctMe-bskko",
        "outputId": "a736d9bc-2312-4499-83bb-c472d66a3817"
      },
      "source": [
        "a4.shape"
      ],
      "execution_count": 33,
      "outputs": [
        {
          "output_type": "execute_result",
          "data": {
            "text/plain": [
              "(2, 2, 2, 2)"
            ]
          },
          "metadata": {
            "tags": []
          },
          "execution_count": 33
        }
      ]
    },
    {
      "cell_type": "markdown",
      "metadata": {
        "id": "ClmV16VaspGu"
      },
      "source": [
        "## Automatic generation of elements"
      ]
    },
    {
      "cell_type": "markdown",
      "metadata": {
        "id": "jVZziABBsxvj"
      },
      "source": [
        "Array filled with zeros"
      ]
    },
    {
      "cell_type": "markdown",
      "metadata": {
        "id": "vGIY3_PRs2pz"
      },
      "source": [
        "zeros(tuple dimensions) => it will create an array with the dimensions entered in its argument (a tuple)"
      ]
    },
    {
      "cell_type": "code",
      "metadata": {
        "id": "qf7IZoqSsljh"
      },
      "source": [
        "z = zeros( (4, 5) )"
      ],
      "execution_count": 34,
      "outputs": []
    },
    {
      "cell_type": "code",
      "metadata": {
        "colab": {
          "base_uri": "https://localhost:8080/"
        },
        "id": "XIllC73NtG-P",
        "outputId": "29f579ad-86d1-42ca-ee5c-1c53d849a17c"
      },
      "source": [
        "z"
      ],
      "execution_count": 35,
      "outputs": [
        {
          "output_type": "execute_result",
          "data": {
            "text/plain": [
              "array([[0., 0., 0., 0., 0.],\n",
              "       [0., 0., 0., 0., 0.],\n",
              "       [0., 0., 0., 0., 0.],\n",
              "       [0., 0., 0., 0., 0.]])"
            ]
          },
          "metadata": {
            "tags": []
          },
          "execution_count": 35
        }
      ]
    },
    {
      "cell_type": "markdown",
      "metadata": {
        "id": "WlFMDzy3t4i8"
      },
      "source": [
        ""
      ]
    },
    {
      "cell_type": "code",
      "metadata": {
        "id": "KSvDmRW6tIZu"
      },
      "source": [
        ""
      ],
      "execution_count": null,
      "outputs": []
    },
    {
      "cell_type": "markdown",
      "metadata": {
        "id": "RVz6eg2ytKhL"
      },
      "source": [
        "**Arrays filled with ones**\r\n",
        "ones (tuples dimensions) => it will create an array with ones"
      ]
    },
    {
      "cell_type": "code",
      "metadata": {
        "id": "J4EE1CuetODV"
      },
      "source": [
        "o = ones((4, 5))"
      ],
      "execution_count": 36,
      "outputs": []
    },
    {
      "cell_type": "code",
      "metadata": {
        "colab": {
          "base_uri": "https://localhost:8080/"
        },
        "id": "GzswiHAfvPyE",
        "outputId": "62a5a7ab-954d-45ce-bb06-4dacc2c453b2"
      },
      "source": [
        "o"
      ],
      "execution_count": 37,
      "outputs": [
        {
          "output_type": "execute_result",
          "data": {
            "text/plain": [
              "array([[1., 1., 1., 1., 1.],\n",
              "       [1., 1., 1., 1., 1.],\n",
              "       [1., 1., 1., 1., 1.],\n",
              "       [1., 1., 1., 1., 1.]])"
            ]
          },
          "metadata": {
            "tags": []
          },
          "execution_count": 37
        }
      ]
    },
    {
      "cell_type": "markdown",
      "metadata": {
        "id": "8boAMOhNvSlP"
      },
      "source": [
        "Array filled with empty elements\r\n",
        "empty (duple dimensions) => it will create an array with random content (depending on the state of the memory)"
      ]
    },
    {
      "cell_type": "code",
      "metadata": {
        "id": "qz0Gj1lzvQp6"
      },
      "source": [
        "e = empty((2, 3))"
      ],
      "execution_count": 38,
      "outputs": []
    },
    {
      "cell_type": "code",
      "metadata": {
        "colab": {
          "base_uri": "https://localhost:8080/"
        },
        "id": "DCyRc300vfza",
        "outputId": "80a838d0-eeae-4ba2-cf03-f7ca32a26381"
      },
      "source": [
        "e"
      ],
      "execution_count": 39,
      "outputs": [
        {
          "output_type": "execute_result",
          "data": {
            "text/plain": [
              "array([[4.9e-324, 9.9e-324, 1.5e-323],\n",
              "       [2.0e-323, 2.5e-323, 3.0e-323]])"
            ]
          },
          "metadata": {
            "tags": []
          },
          "execution_count": 39
        }
      ]
    },
    {
      "cell_type": "code",
      "metadata": {
        "id": "5_gLs6OUvg-j"
      },
      "source": [
        "s = arange(5, 10, 1)"
      ],
      "execution_count": 41,
      "outputs": []
    },
    {
      "cell_type": "code",
      "metadata": {
        "colab": {
          "base_uri": "https://localhost:8080/"
        },
        "id": "jp6yyXObvytQ",
        "outputId": "5c780f8a-827b-4e04-882b-e1fadadef113"
      },
      "source": [
        "s"
      ],
      "execution_count": 42,
      "outputs": [
        {
          "output_type": "execute_result",
          "data": {
            "text/plain": [
              "array([5, 6, 7, 8, 9])"
            ]
          },
          "metadata": {
            "tags": []
          },
          "execution_count": 42
        }
      ]
    },
    {
      "cell_type": "code",
      "metadata": {
        "id": "ilWGM24Yv4Nw"
      },
      "source": [
        "s2 = linspace(5.5, 10, 20)"
      ],
      "execution_count": 43,
      "outputs": []
    },
    {
      "cell_type": "code",
      "metadata": {
        "colab": {
          "base_uri": "https://localhost:8080/"
        },
        "id": "r8ez02YfwBn_",
        "outputId": "4ba11c46-335c-4b62-d0bf-5f32181c290a"
      },
      "source": [
        "s2"
      ],
      "execution_count": 44,
      "outputs": [
        {
          "output_type": "execute_result",
          "data": {
            "text/plain": [
              "array([ 5.5       ,  5.73684211,  5.97368421,  6.21052632,  6.44736842,\n",
              "        6.68421053,  6.92105263,  7.15789474,  7.39473684,  7.63157895,\n",
              "        7.86842105,  8.10526316,  8.34210526,  8.57894737,  8.81578947,\n",
              "        9.05263158,  9.28947368,  9.52631579,  9.76315789, 10.        ])"
            ]
          },
          "metadata": {
            "tags": []
          },
          "execution_count": 44
        }
      ]
    },
    {
      "cell_type": "code",
      "metadata": {
        "id": "W2m38-JTwCeP"
      },
      "source": [
        "r = random.random( (2, 3) )"
      ],
      "execution_count": 45,
      "outputs": []
    },
    {
      "cell_type": "code",
      "metadata": {
        "colab": {
          "base_uri": "https://localhost:8080/"
        },
        "id": "fo4viLfqwIwX",
        "outputId": "db781fb8-52da-4917-d1a1-b8d6d0725d1b"
      },
      "source": [
        "r"
      ],
      "execution_count": 46,
      "outputs": [
        {
          "output_type": "execute_result",
          "data": {
            "text/plain": [
              "array([[0.01774126, 0.75752635, 0.42538717],\n",
              "       [0.08863529, 0.78813194, 0.0451678 ]])"
            ]
          },
          "metadata": {
            "tags": []
          },
          "execution_count": 46
        }
      ]
    },
    {
      "cell_type": "code",
      "metadata": {
        "id": "Bhgmu9VnwJrX"
      },
      "source": [
        ""
      ],
      "execution_count": null,
      "outputs": []
    }
  ]
}