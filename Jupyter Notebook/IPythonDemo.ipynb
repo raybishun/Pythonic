{
  "nbformat": 4,
  "nbformat_minor": 0,
  "metadata": {
    "colab": {
      "name": "IPythonDemo.ipynb",
      "provenance": [],
      "collapsed_sections": [],
      "authorship_tag": "ABX9TyMAThc/FZJkU/6trlv+NBiI",
      "include_colab_link": true
    },
    "kernelspec": {
      "name": "python3",
      "display_name": "Python 3"
    }
  },
  "cells": [
    {
      "cell_type": "markdown",
      "metadata": {
        "id": "view-in-github",
        "colab_type": "text"
      },
      "source": [
        "<a href=\"https://colab.research.google.com/github/raybishun/Pythonic/blob/main/Jupyter%20Notebook/IPythonDemo.ipynb\" target=\"_parent\"><img src=\"https://colab.research.google.com/assets/colab-badge.svg\" alt=\"Open In Colab\"/></a>"
      ]
    },
    {
      "cell_type": "markdown",
      "metadata": {
        "id": "YdyE4oMr0qS6"
      },
      "source": [
        "# IPython Demo"
      ]
    },
    {
      "cell_type": "code",
      "metadata": {
        "colab": {
          "base_uri": "https://localhost:8080/"
        },
        "id": "pjntV1LX0yMy",
        "outputId": "484d1aea-7ee3-4c8b-cf68-22a572e5175b"
      },
      "source": [
        "%pylab inline"
      ],
      "execution_count": 1,
      "outputs": [
        {
          "output_type": "stream",
          "text": [
            "Populating the interactive namespace from numpy and matplotlib\n"
          ],
          "name": "stdout"
        }
      ]
    },
    {
      "cell_type": "markdown",
      "metadata": {
        "id": "OaU-bN1p08jS"
      },
      "source": [
        "## Libraries"
      ]
    },
    {
      "cell_type": "code",
      "metadata": {
        "id": "ZuC3fTtM04RS"
      },
      "source": [
        "import pandas as pd"
      ],
      "execution_count": 9,
      "outputs": []
    },
    {
      "cell_type": "code",
      "metadata": {
        "id": "Zfl0azRU1YDm"
      },
      "source": [
        "from pandas_datareader import DataReader"
      ],
      "execution_count": 12,
      "outputs": []
    },
    {
      "cell_type": "code",
      "metadata": {
        "id": "5CX3MCGK7P0b"
      },
      "source": [
        "df = DataReader(\"SPY\", \"yahoo\", \"20000101\", \"20150605\")"
      ],
      "execution_count": 14,
      "outputs": []
    },
    {
      "cell_type": "code",
      "metadata": {
        "id": "g1c7cR8B7oJl"
      },
      "source": [
        "df?"
      ],
      "execution_count": 19,
      "outputs": []
    },
    {
      "cell_type": "code",
      "metadata": {
        "colab": {
          "base_uri": "https://localhost:8080/",
          "height": 233
        },
        "id": "0JQfF03R7pvA",
        "outputId": "1e4b496a-18a8-4b5c-fc95-0c1611e392a4"
      },
      "source": [
        "df.head()"
      ],
      "execution_count": 16,
      "outputs": [
        {
          "output_type": "execute_result",
          "data": {
            "text/html": [
              "<div>\n",
              "<style scoped>\n",
              "    .dataframe tbody tr th:only-of-type {\n",
              "        vertical-align: middle;\n",
              "    }\n",
              "\n",
              "    .dataframe tbody tr th {\n",
              "        vertical-align: top;\n",
              "    }\n",
              "\n",
              "    .dataframe thead th {\n",
              "        text-align: right;\n",
              "    }\n",
              "</style>\n",
              "<table border=\"1\" class=\"dataframe\">\n",
              "  <thead>\n",
              "    <tr style=\"text-align: right;\">\n",
              "      <th></th>\n",
              "      <th>High</th>\n",
              "      <th>Low</th>\n",
              "      <th>Open</th>\n",
              "      <th>Close</th>\n",
              "      <th>Volume</th>\n",
              "      <th>Adj Close</th>\n",
              "    </tr>\n",
              "    <tr>\n",
              "      <th>Date</th>\n",
              "      <th></th>\n",
              "      <th></th>\n",
              "      <th></th>\n",
              "      <th></th>\n",
              "      <th></th>\n",
              "      <th></th>\n",
              "    </tr>\n",
              "  </thead>\n",
              "  <tbody>\n",
              "    <tr>\n",
              "      <th>2000-01-03</th>\n",
              "      <td>148.25000</td>\n",
              "      <td>143.875000</td>\n",
              "      <td>148.25000</td>\n",
              "      <td>145.4375</td>\n",
              "      <td>8164300.0</td>\n",
              "      <td>98.146072</td>\n",
              "    </tr>\n",
              "    <tr>\n",
              "      <th>2000-01-04</th>\n",
              "      <td>144.06250</td>\n",
              "      <td>139.640625</td>\n",
              "      <td>143.53125</td>\n",
              "      <td>139.7500</td>\n",
              "      <td>8089800.0</td>\n",
              "      <td>94.307983</td>\n",
              "    </tr>\n",
              "    <tr>\n",
              "      <th>2000-01-05</th>\n",
              "      <td>141.53125</td>\n",
              "      <td>137.250000</td>\n",
              "      <td>139.93750</td>\n",
              "      <td>140.0000</td>\n",
              "      <td>12177900.0</td>\n",
              "      <td>94.476685</td>\n",
              "    </tr>\n",
              "    <tr>\n",
              "      <th>2000-01-06</th>\n",
              "      <td>141.50000</td>\n",
              "      <td>137.750000</td>\n",
              "      <td>139.62500</td>\n",
              "      <td>137.7500</td>\n",
              "      <td>6227200.0</td>\n",
              "      <td>92.958336</td>\n",
              "    </tr>\n",
              "    <tr>\n",
              "      <th>2000-01-07</th>\n",
              "      <td>145.75000</td>\n",
              "      <td>140.062500</td>\n",
              "      <td>140.31250</td>\n",
              "      <td>145.7500</td>\n",
              "      <td>8066500.0</td>\n",
              "      <td>98.356987</td>\n",
              "    </tr>\n",
              "  </tbody>\n",
              "</table>\n",
              "</div>"
            ],
            "text/plain": [
              "                 High         Low       Open     Close      Volume  Adj Close\n",
              "Date                                                                         \n",
              "2000-01-03  148.25000  143.875000  148.25000  145.4375   8164300.0  98.146072\n",
              "2000-01-04  144.06250  139.640625  143.53125  139.7500   8089800.0  94.307983\n",
              "2000-01-05  141.53125  137.250000  139.93750  140.0000  12177900.0  94.476685\n",
              "2000-01-06  141.50000  137.750000  139.62500  137.7500   6227200.0  92.958336\n",
              "2000-01-07  145.75000  140.062500  140.31250  145.7500   8066500.0  98.356987"
            ]
          },
          "metadata": {
            "tags": []
          },
          "execution_count": 16
        }
      ]
    },
    {
      "cell_type": "code",
      "metadata": {
        "colab": {
          "base_uri": "https://localhost:8080/",
          "height": 233
        },
        "id": "ZGE-33VeCULZ",
        "outputId": "bc77d030-5cdb-4111-f453-2857b71e1371"
      },
      "source": [
        "Out[16]"
      ],
      "execution_count": 20,
      "outputs": [
        {
          "output_type": "execute_result",
          "data": {
            "text/html": [
              "<div>\n",
              "<style scoped>\n",
              "    .dataframe tbody tr th:only-of-type {\n",
              "        vertical-align: middle;\n",
              "    }\n",
              "\n",
              "    .dataframe tbody tr th {\n",
              "        vertical-align: top;\n",
              "    }\n",
              "\n",
              "    .dataframe thead th {\n",
              "        text-align: right;\n",
              "    }\n",
              "</style>\n",
              "<table border=\"1\" class=\"dataframe\">\n",
              "  <thead>\n",
              "    <tr style=\"text-align: right;\">\n",
              "      <th></th>\n",
              "      <th>High</th>\n",
              "      <th>Low</th>\n",
              "      <th>Open</th>\n",
              "      <th>Close</th>\n",
              "      <th>Volume</th>\n",
              "      <th>Adj Close</th>\n",
              "    </tr>\n",
              "    <tr>\n",
              "      <th>Date</th>\n",
              "      <th></th>\n",
              "      <th></th>\n",
              "      <th></th>\n",
              "      <th></th>\n",
              "      <th></th>\n",
              "      <th></th>\n",
              "    </tr>\n",
              "  </thead>\n",
              "  <tbody>\n",
              "    <tr>\n",
              "      <th>2000-01-03</th>\n",
              "      <td>148.25000</td>\n",
              "      <td>143.875000</td>\n",
              "      <td>148.25000</td>\n",
              "      <td>145.4375</td>\n",
              "      <td>8164300.0</td>\n",
              "      <td>98.146072</td>\n",
              "    </tr>\n",
              "    <tr>\n",
              "      <th>2000-01-04</th>\n",
              "      <td>144.06250</td>\n",
              "      <td>139.640625</td>\n",
              "      <td>143.53125</td>\n",
              "      <td>139.7500</td>\n",
              "      <td>8089800.0</td>\n",
              "      <td>94.307983</td>\n",
              "    </tr>\n",
              "    <tr>\n",
              "      <th>2000-01-05</th>\n",
              "      <td>141.53125</td>\n",
              "      <td>137.250000</td>\n",
              "      <td>139.93750</td>\n",
              "      <td>140.0000</td>\n",
              "      <td>12177900.0</td>\n",
              "      <td>94.476685</td>\n",
              "    </tr>\n",
              "    <tr>\n",
              "      <th>2000-01-06</th>\n",
              "      <td>141.50000</td>\n",
              "      <td>137.750000</td>\n",
              "      <td>139.62500</td>\n",
              "      <td>137.7500</td>\n",
              "      <td>6227200.0</td>\n",
              "      <td>92.958336</td>\n",
              "    </tr>\n",
              "    <tr>\n",
              "      <th>2000-01-07</th>\n",
              "      <td>145.75000</td>\n",
              "      <td>140.062500</td>\n",
              "      <td>140.31250</td>\n",
              "      <td>145.7500</td>\n",
              "      <td>8066500.0</td>\n",
              "      <td>98.356987</td>\n",
              "    </tr>\n",
              "  </tbody>\n",
              "</table>\n",
              "</div>"
            ],
            "text/plain": [
              "                 High         Low       Open     Close      Volume  Adj Close\n",
              "Date                                                                         \n",
              "2000-01-03  148.25000  143.875000  148.25000  145.4375   8164300.0  98.146072\n",
              "2000-01-04  144.06250  139.640625  143.53125  139.7500   8089800.0  94.307983\n",
              "2000-01-05  141.53125  137.250000  139.93750  140.0000  12177900.0  94.476685\n",
              "2000-01-06  141.50000  137.750000  139.62500  137.7500   6227200.0  92.958336\n",
              "2000-01-07  145.75000  140.062500  140.31250  145.7500   8066500.0  98.356987"
            ]
          },
          "metadata": {
            "tags": []
          },
          "execution_count": 20
        }
      ]
    },
    {
      "cell_type": "code",
      "metadata": {
        "colab": {
          "base_uri": "https://localhost:8080/",
          "height": 285
        },
        "id": "jANFF-eNC5rb",
        "outputId": "dce42b52-592e-4799-e8bf-a2c07b2660da"
      },
      "source": [
        "plot(df.index, df['Close'])"
      ],
      "execution_count": 21,
      "outputs": [
        {
          "output_type": "execute_result",
          "data": {
            "text/plain": [
              "[<matplotlib.lines.Line2D at 0x7f159a5bd588>]"
            ]
          },
          "metadata": {
            "tags": []
          },
          "execution_count": 21
        },
        {
          "output_type": "display_data",
          "data": {
            "image/png": "[encoded data removed]",
            "text/plain": [
              "<Figure size 432x288 with 1 Axes>"
            ]
          },
          "metadata": {
            "tags": [],
            "needs_background": "light"
          }
        }
      ]
    },
    {
      "cell_type": "code",
      "metadata": {
        "id": "sF_s36VpDD_b"
      },
      "source": [
        ""
      ],
      "execution_count": null,
      "outputs": []
    }
  ]
}